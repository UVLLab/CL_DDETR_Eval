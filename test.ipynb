{
 "cells": [
  {
   "cell_type": "code",
   "execution_count": 214,
   "metadata": {},
   "outputs": [],
   "source": [
    "import torch\n",
    "import numpy as np\n",
    "\n",
    "temp = {37: [[2, 0.710587203502655, False, 117], [2, 0.710587203502655, False, 118], [2, 0.8552080392837524, False, 123], [2, 0.8552080392837524, True, 124], [2, 0.8819786906242371, True, 103], [2, 0.8819786906242371, True, 104], [2, 0.9262967705726624, True, 43], [2, 0.9262967705726624, True, 44], [2, 0.9485719799995422, True, 113], [2, 0.9485719799995422, True, 114], [2, 1.0069825649261475, True, 107], [2, 1.0069825649261475, True, 108], [2, 1.0108802318572998, True, 39], [2, 1.0108802318572998, True, 40], [2, 1.048500418663025, True, 109], [2, 1.048500418663025, True, 110], [2, 1.0621336698532104, True, 99], [2, 1.0621336698532104, True, 100], [2, 1.1646535396575928, True, 97], [2, 1.1646535396575928, True, 98], [1, 1.1964150667190552, True, 45], [2, 1.1964150667190552, True, 46], [2, 1.2234257459640503, True, 105], [2, 1.2234257459640503, True, 106], [2, 1.276465892791748, True, 51], [2, 1.276465892791748, True, 52], [2, 1.3770601749420166, True, 111], [2, 1.3770601749420166, True, 112], [2, 1.4207924604415894, True, 125], [2, 1.4207924604415894, True, 126], [2, 1.457613468170166, True, 33], [2, 1.457613468170166, True, 34], [1, 1.4961259365081787, True, 101], [2, 1.4961259365081787, True, 102], [4, 1.1897366046905518, True, 159]], 50: [[2, 0.9775761961936951, True, 161], [2, 0.9775761961936951, True, 162], [2, 1.1105427742004395, True, 171], [3, 1.1105427742004395, True, 172], [3, 1.1648470163345337, True, 173], [2, 1.1648470163345337, True, 174], [5, 1.1897366046905518, True, 160], [5, 1.2224220037460327, True, 163], [2, 1.2224220037460327, True, 164], [4, 1.316786766052246, True, 169], [5, 1.316786766052246, True, 170], [4, 1.3542976379394531, True, 175], [2, 1.3542976379394531, True, 176], [5, 1.4068158864974976, True, 165], [5, 1.4068158864974976, True, 166], [2, 1.483826756477356, True, 167], [3, 1.483826756477356, True, 168], [5, 1.4191384315490723, True, 177]], 58: [[2, 1.1466126441955566, True, 193], [2, 1.4191384315490723, True, 178], [2, 1.4333014488220215, True, 179], [4, 1.4333014488220215, True, 180], [4, 1.1466126441955566, False, 194]]}\n"
   ]
  },
  {
   "cell_type": "code",
   "execution_count": 227,
   "metadata": {},
   "outputs": [
    {
     "name": "stdout",
     "output_type": "stream",
     "text": [
      "58\n"
     ]
    }
   ],
   "source": [
    "count = 0\n",
    "for componets in list(temp.values()):\n",
    "    count += len(componets)\n",
    "print(count)"
   ]
  },
  {
   "cell_type": "code",
   "execution_count": 215,
   "metadata": {},
   "outputs": [
    {
     "name": "stdout",
     "output_type": "stream",
     "text": [
      "37\n",
      "50\n",
      "58\n"
     ]
    }
   ],
   "source": [
    "for contents in temp.values:\n",
    "    print(contents)"
   ]
  },
  {
   "cell_type": "code",
   "execution_count": 228,
   "metadata": {},
   "outputs": [
    {
     "name": "stdout",
     "output_type": "stream",
     "text": [
      "loading annotations into memory...\n",
      "Done (t=2.93s)\n",
      "creating index...\n",
      "index created!\n"
     ]
    }
   ],
   "source": [
    "from pycocotools.coco import COCO\n",
    "\n",
    "coco = COCO(\"/data/LG/real_dataset/total_dataset/didvepz/plustotal/output_json/train.json\")"
   ]
  },
  {
   "cell_type": "code",
   "execution_count": 248,
   "metadata": {},
   "outputs": [
    {
     "name": "stdout",
     "output_type": "stream",
     "text": [
      "[]\n",
      "526809\n"
     ]
    }
   ],
   "source": [
    "img_ids = coco.getImgIds(catIds=[1,2, 3, 4, 5, 6, 7, 8, 9, 10])\n",
    "print(img_ids)\n",
    "print(len(coco.getAnnIds(imgIds=img_ids)))"
   ]
  },
  {
   "cell_type": "code",
   "execution_count": 259,
   "metadata": {},
   "outputs": [
    {
     "data": {
      "text/plain": [
       "[]"
      ]
     },
     "execution_count": 259,
     "metadata": {},
     "output_type": "execute_result"
    }
   ],
   "source": [
    "coco.getImgIds(catIds=[1,2, 3, 4, 5, 6, 7, 8, 9, 10])"
   ]
  },
  {
   "cell_type": "code",
   "execution_count": 322,
   "metadata": {},
   "outputs": [
    {
     "name": "stdout",
     "output_type": "stream",
     "text": [
      "43853\n"
     ]
    }
   ],
   "source": [
    "#클래스에 해당하는 이미지 불러오기\n",
    "Class_list = [1, 2, 3, 4, 5, 6, 7, 8, 9, 10, 11]\n",
    "total_img = []\n",
    "\n",
    "for c_idx in Class_list:\n",
    "    img_ids = coco.getImgIds(catIds= c_idx)\n",
    "    total_img.extend(img_ids)\n",
    "\n",
    "unique_img = list(set(total_img))\n",
    "print(len(unique_img))\n",
    "\n"
   ]
  },
  {
   "cell_type": "code",
   "execution_count": 315,
   "metadata": {},
   "outputs": [
    {
     "name": "stdout",
     "output_type": "stream",
     "text": [
      "[[1, 2, 3, 4, 5, 6, 7, 8, 9, 10, 11], [12, 13, 14, 15, 16, 17, 18, 19, 20, 21, 22], [23, 24, 25, 26, 27, 28, 29, 30, 31, 32, 33], [34, 35, 36, 37, 38, 39, 40, 41, 42, 43, 44], [45, 46, 47, 48, 49, 50, 51, 52, 53, 54, 55]]\n",
      "[56, 57, 58, 59]\n",
      "[45, 46, 47, 48, 49, 50, 51, 52, 53, 54, 55]\n"
     ]
    },
    {
     "data": {
      "text/plain": [
       "[[1, 2, 3, 4, 5, 6, 7, 8, 9, 10, 11],\n",
       " [12, 13, 14, 15, 16, 17, 18, 19, 20, 21, 22],\n",
       " [23, 24, 25, 26, 27, 28, 29, 30, 31, 32, 33],\n",
       " [34, 35, 36, 37, 38, 39, 40, 41, 42, 43, 44],\n",
       " [45, 46, 47, 48, 49, 50, 51, 52, 53, 54, 55, 56, 57, 58, 59]]"
      ]
     },
     "execution_count": 315,
     "metadata": {},
     "output_type": "execute_result"
    }
   ],
   "source": [
    "def DivideTask_for_incre(Task_Counts: int, Total_Classes: int):\n",
    "    classes = [idx+1 for idx in range(Total_Classes)]\n",
    "    Task = int(Total_Classes / Task_Counts)\n",
    "    Rest_Classes_num = Total_Classes % Task_Counts\n",
    "    \n",
    "    start = 0\n",
    "    end = Task\n",
    "    Divided_Classes = []\n",
    "    for _ in range(Task_Counts):\n",
    "        Divided_Classes.append(classes[start:end])\n",
    "        start += Task\n",
    "        end += Task\n",
    "    print(Divided_Classes)\n",
    "    if Rest_Classes_num != 0:\n",
    "        Rest_Classes = classes[-Rest_Classes_num:]\n",
    "        print(Rest_Classes)\n",
    "        print(Divided_Classes[-1])\n",
    "        Divided_Classes[-1].extend(Rest_Classes)\n",
    "    \n",
    "    \n",
    "    return Divided_Classes\n",
    "    \n",
    "    \n",
    "\n",
    "DivideTask_for_incre(5, 59)"
   ]
  },
  {
   "cell_type": "code",
   "execution_count": 297,
   "metadata": {},
   "outputs": [
    {
     "data": {
      "text/plain": [
       "[{'area': 11466,\n",
       "  'iscrowd': 0,\n",
       "  'bbox': [557, 507, 91, 126],\n",
       "  'category_id': 18,\n",
       "  'ignore': 0,\n",
       "  'segmentation': [],\n",
       "  'image_id': 4423,\n",
       "  'id': 15552},\n",
       " {'area': 11072,\n",
       "  'iscrowd': 0,\n",
       "  'bbox': [655, 459, 64, 173],\n",
       "  'category_id': 4,\n",
       "  'ignore': 0,\n",
       "  'segmentation': [],\n",
       "  'image_id': 4423,\n",
       "  'id': 15553},\n",
       " {'area': 15656,\n",
       "  'iscrowd': 0,\n",
       "  'bbox': [717, 430, 76, 206],\n",
       "  'category_id': 4,\n",
       "  'ignore': 0,\n",
       "  'segmentation': [],\n",
       "  'image_id': 4423,\n",
       "  'id': 15554},\n",
       " {'area': 30906,\n",
       "  'iscrowd': 0,\n",
       "  'bbox': [797, 486, 202, 153],\n",
       "  'category_id': 3,\n",
       "  'ignore': 0,\n",
       "  'segmentation': [],\n",
       "  'image_id': 4423,\n",
       "  'id': 15555},\n",
       " {'area': 14256,\n",
       "  'iscrowd': 0,\n",
       "  'bbox': [572, 753, 81, 176],\n",
       "  'category_id': 5,\n",
       "  'ignore': 0,\n",
       "  'segmentation': [],\n",
       "  'image_id': 4423,\n",
       "  'id': 15556},\n",
       " {'area': 12384,\n",
       "  'iscrowd': 0,\n",
       "  'bbox': [645, 795, 86, 144],\n",
       "  'category_id': 3,\n",
       "  'ignore': 0,\n",
       "  'segmentation': [],\n",
       "  'image_id': 4423,\n",
       "  'id': 15557},\n",
       " {'area': 20705,\n",
       "  'iscrowd': 0,\n",
       "  'bbox': [726, 782, 101, 205],\n",
       "  'category_id': 13,\n",
       "  'ignore': 0,\n",
       "  'segmentation': [],\n",
       "  'image_id': 4423,\n",
       "  'id': 15558},\n",
       " {'area': 13467,\n",
       "  'iscrowd': 0,\n",
       "  'bbox': [813, 752, 67, 201],\n",
       "  'category_id': 4,\n",
       "  'ignore': 0,\n",
       "  'segmentation': [],\n",
       "  'image_id': 4423,\n",
       "  'id': 15559},\n",
       " {'area': 32032,\n",
       "  'iscrowd': 0,\n",
       "  'bbox': [867, 695, 112, 286],\n",
       "  'category_id': 4,\n",
       "  'ignore': 0,\n",
       "  'segmentation': [],\n",
       "  'image_id': 4423,\n",
       "  'id': 15560}]"
      ]
     },
     "execution_count": 297,
     "metadata": {},
     "output_type": "execute_result"
    }
   ],
   "source": [
    "coco.loadAnns(coco.getAnnIds(unique_img[0]))"
   ]
  },
  {
   "cell_type": "code",
   "execution_count": 319,
   "metadata": {},
   "outputs": [
    {
     "data": {
      "text/plain": [
       "[{'area': 11466,\n",
       "  'iscrowd': 0,\n",
       "  'bbox': [557, 507, 91, 126],\n",
       "  'category_id': 18,\n",
       "  'ignore': 0,\n",
       "  'segmentation': [],\n",
       "  'image_id': 4423,\n",
       "  'id': 15552},\n",
       " {'area': 11072,\n",
       "  'iscrowd': 0,\n",
       "  'bbox': [655, 459, 64, 173],\n",
       "  'category_id': 4,\n",
       "  'ignore': 0,\n",
       "  'segmentation': [],\n",
       "  'image_id': 4423,\n",
       "  'id': 15553},\n",
       " {'area': 15656,\n",
       "  'iscrowd': 0,\n",
       "  'bbox': [717, 430, 76, 206],\n",
       "  'category_id': 4,\n",
       "  'ignore': 0,\n",
       "  'segmentation': [],\n",
       "  'image_id': 4423,\n",
       "  'id': 15554},\n",
       " {'area': 30906,\n",
       "  'iscrowd': 0,\n",
       "  'bbox': [797, 486, 202, 153],\n",
       "  'category_id': 3,\n",
       "  'ignore': 0,\n",
       "  'segmentation': [],\n",
       "  'image_id': 4423,\n",
       "  'id': 15555},\n",
       " {'area': 14256,\n",
       "  'iscrowd': 0,\n",
       "  'bbox': [572, 753, 81, 176],\n",
       "  'category_id': 5,\n",
       "  'ignore': 0,\n",
       "  'segmentation': [],\n",
       "  'image_id': 4423,\n",
       "  'id': 15556},\n",
       " {'area': 12384,\n",
       "  'iscrowd': 0,\n",
       "  'bbox': [645, 795, 86, 144],\n",
       "  'category_id': 3,\n",
       "  'ignore': 0,\n",
       "  'segmentation': [],\n",
       "  'image_id': 4423,\n",
       "  'id': 15557},\n",
       " {'area': 20705,\n",
       "  'iscrowd': 0,\n",
       "  'bbox': [726, 782, 101, 205],\n",
       "  'category_id': 13,\n",
       "  'ignore': 0,\n",
       "  'segmentation': [],\n",
       "  'image_id': 4423,\n",
       "  'id': 15558},\n",
       " {'area': 13467,\n",
       "  'iscrowd': 0,\n",
       "  'bbox': [813, 752, 67, 201],\n",
       "  'category_id': 4,\n",
       "  'ignore': 0,\n",
       "  'segmentation': [],\n",
       "  'image_id': 4423,\n",
       "  'id': 15559},\n",
       " {'area': 32032,\n",
       "  'iscrowd': 0,\n",
       "  'bbox': [867, 695, 112, 286],\n",
       "  'category_id': 4,\n",
       "  'ignore': 0,\n",
       "  'segmentation': [],\n",
       "  'image_id': 4423,\n",
       "  'id': 15560}]"
      ]
     },
     "execution_count": 319,
     "metadata": {},
     "output_type": "execute_result"
    }
   ],
   "source": [
    "coco.loadAnns(coco.getAnnIds(unique_img[0]))"
   ]
  },
  {
   "cell_type": "code",
   "execution_count": 321,
   "metadata": {},
   "outputs": [
    {
     "name": "stdout",
     "output_type": "stream",
     "text": [
      "7\n",
      "9\n",
      "[{'area': 11072, 'iscrowd': 0, 'bbox': [655, 459, 64, 173], 'category_id': 4, 'ignore': 0, 'segmentation': [], 'image_id': 4423, 'id': 15553}, {'area': 15656, 'iscrowd': 0, 'bbox': [717, 430, 76, 206], 'category_id': 4, 'ignore': 0, 'segmentation': [], 'image_id': 4423, 'id': 15554}, {'area': 30906, 'iscrowd': 0, 'bbox': [797, 486, 202, 153], 'category_id': 3, 'ignore': 0, 'segmentation': [], 'image_id': 4423, 'id': 15555}, {'area': 14256, 'iscrowd': 0, 'bbox': [572, 753, 81, 176], 'category_id': 5, 'ignore': 0, 'segmentation': [], 'image_id': 4423, 'id': 15556}, {'area': 12384, 'iscrowd': 0, 'bbox': [645, 795, 86, 144], 'category_id': 3, 'ignore': 0, 'segmentation': [], 'image_id': 4423, 'id': 15557}, {'area': 13467, 'iscrowd': 0, 'bbox': [813, 752, 67, 201], 'category_id': 4, 'ignore': 0, 'segmentation': [], 'image_id': 4423, 'id': 15559}, {'area': 32032, 'iscrowd': 0, 'bbox': [867, 695, 112, 286], 'category_id': 4, 'ignore': 0, 'segmentation': [], 'image_id': 4423, 'id': 15560}]\n"
     ]
    }
   ],
   "source": [
    "a = [ value for value in coco.loadAnns(coco.getAnnIds(unique_img[0])) if value[\"category_id\"] in Class_list]\n",
    "b = [ value for value in coco.loadAnns(coco.getAnnIds(unique_img[0])) ]\n",
    "\n",
    "print(len(a))\n",
    "print(len(b))\n",
    "print(a)"
   ]
  },
  {
   "cell_type": "code",
   "execution_count": 279,
   "metadata": {},
   "outputs": [
    {
     "name": "stdout",
     "output_type": "stream",
     "text": [
      "annotation id : 17057\n",
      "[{'area': 21855, 'iscrowd': 0, 'bbox': [995, 700, 93, 235], 'category_id': 1, 'ignore': 0, 'segmentation': [], 'image_id': 4668, 'id': 17057}]\n"
     ]
    }
   ],
   "source": [
    "ann_id = coco.getAnnIds(catIds=1)\n",
    "\n",
    "print(f\"annotation id : {ann_id[0]}\")\n",
    "print(coco.loadAnns(ann_id[0]))\n",
    "\n",
    "coco.getCatIds()"
   ]
  },
  {
   "cell_type": "code",
   "execution_count": 294,
   "metadata": {},
   "outputs": [
    {
     "data": {
      "text/plain": [
       "[{'file_name': '100065.jpg', 'height': 250, 'width': 400, 'id': 9}]"
      ]
     },
     "execution_count": 294,
     "metadata": {},
     "output_type": "execute_result"
    }
   ],
   "source": [
    "coco.loadImgs(ids=9)"
   ]
  }
 ],
 "metadata": {
  "kernelspec": {
   "display_name": "deformable_detr",
   "language": "python",
   "name": "python3"
  },
  "language_info": {
   "codemirror_mode": {
    "name": "ipython",
    "version": 3
   },
   "file_extension": ".py",
   "mimetype": "text/x-python",
   "name": "python",
   "nbconvert_exporter": "python",
   "pygments_lexer": "ipython3",
   "version": "3.7.13"
  },
  "orig_nbformat": 4,
  "vscode": {
   "interpreter": {
    "hash": "e5a09c2b6f34fcc5c33c974bbe101725cfa8cb2fd6eedfde5515bd07ecae16c0"
   }
  }
 },
 "nbformat": 4,
 "nbformat_minor": 2
}
