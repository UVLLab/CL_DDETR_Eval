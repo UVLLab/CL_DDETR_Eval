{
 "cells": [
  {
   "cell_type": "code",
   "execution_count": 1,
   "metadata": {},
   "outputs": [],
   "source": [
    "apple = [\"/home/user/Desktop/vscode/newvetest/multisingle\", \"/home/user/Desktop/vscode/newvetest/single\"]"
   ]
  },
  {
   "cell_type": "code",
   "execution_count": 3,
   "metadata": {},
   "outputs": [
    {
     "name": "stdout",
     "output_type": "stream",
     "text": [
      "hi\n"
     ]
    }
   ],
   "source": [
    "import os\n",
    "\n",
    "for link in apple :\n",
    "    if \"multisingle\" in link :\n",
    "        print(\"hi\")"
   ]
  }
 ],
 "metadata": {
  "kernelspec": {
   "display_name": "test_deform",
   "language": "python",
   "name": "python3"
  },
  "language_info": {
   "codemirror_mode": {
    "name": "ipython",
    "version": 3
   },
   "file_extension": ".py",
   "mimetype": "text/x-python",
   "name": "python",
   "nbconvert_exporter": "python",
   "pygments_lexer": "ipython3",
   "version": "3.8.13"
  },
  "orig_nbformat": 4,
  "vscode": {
   "interpreter": {
    "hash": "89e8356427804e3f0d556b47a83a8836e2209c7e18cfa607644255c87b93c9a0"
   }
  }
 },
 "nbformat": 4,
 "nbformat_minor": 2
}
